{
 "cells": [
  {
   "cell_type": "code",
   "execution_count": 1,
   "id": "0b204b5a-c5f7-4007-82a5-a06a442ab936",
   "metadata": {},
   "outputs": [
    {
     "name": "stdout",
     "output_type": "stream",
     "text": [
      "Requirement already satisfied: pdfplumber in c:\\users\\asus\\anaconda3\\lib\\site-packages (0.11.6)\n",
      "Requirement already satisfied: pyttsx3 in c:\\users\\asus\\anaconda3\\lib\\site-packages (2.98)\n",
      "Requirement already satisfied: pdfminer.six==20250327 in c:\\users\\asus\\anaconda3\\lib\\site-packages (from pdfplumber) (20250327)\n",
      "Requirement already satisfied: Pillow>=9.1 in c:\\users\\asus\\anaconda3\\lib\\site-packages (from pdfplumber) (10.3.0)\n",
      "Requirement already satisfied: pypdfium2>=4.18.0 in c:\\users\\asus\\anaconda3\\lib\\site-packages (from pdfplumber) (4.30.1)\n",
      "Requirement already satisfied: charset-normalizer>=2.0.0 in c:\\users\\asus\\anaconda3\\lib\\site-packages (from pdfminer.six==20250327->pdfplumber) (2.0.4)\n",
      "Requirement already satisfied: cryptography>=36.0.0 in c:\\users\\asus\\anaconda3\\lib\\site-packages (from pdfminer.six==20250327->pdfplumber) (42.0.5)\n",
      "Requirement already satisfied: comtypes in c:\\users\\asus\\anaconda3\\lib\\site-packages (from pyttsx3) (1.4.10)\n",
      "Requirement already satisfied: pypiwin32 in c:\\users\\asus\\anaconda3\\lib\\site-packages (from pyttsx3) (223)\n",
      "Requirement already satisfied: pywin32 in c:\\users\\asus\\anaconda3\\lib\\site-packages (from pyttsx3) (305.1)\n",
      "Requirement already satisfied: cffi>=1.12 in c:\\users\\asus\\anaconda3\\lib\\site-packages (from cryptography>=36.0.0->pdfminer.six==20250327->pdfplumber) (1.16.0)\n",
      "Requirement already satisfied: pycparser in c:\\users\\asus\\anaconda3\\lib\\site-packages (from cffi>=1.12->cryptography>=36.0.0->pdfminer.six==20250327->pdfplumber) (2.21)\n"
     ]
    }
   ],
   "source": [
    "# Install necessary libraries (run only if not already installed)\n",
    "!pip install pdfplumber pyttsx3"
   ]
  },
  {
   "cell_type": "code",
   "execution_count": 2,
   "id": "e716ea80-9d67-47eb-bb63-3abbc01d7681",
   "metadata": {},
   "outputs": [],
   "source": [
    "# Import required libraries\n",
    "import pdfplumber\n",
    "import pyttsx3\n",
    "from IPython.display import Audio, display\n",
    "import os"
   ]
  },
  {
   "cell_type": "code",
   "execution_count": 3,
   "id": "d056a5e1-c304-4089-974c-132335040b61",
   "metadata": {},
   "outputs": [],
   "source": [
    "# Function to extract text from a PDF file\n",
    "def extract_text_from_pdf(pdf_path):\n",
    "    text = \"\"\n",
    "    try:\n",
    "        with pdfplumber.open(pdf_path) as pdf:\n",
    "            for page in pdf.pages:\n",
    "                extracted = page.extract_text()\n",
    "                if extracted:  # Only add if text is extracted\n",
    "                    text += extracted + \" \"\n",
    "        print(\"Text extraction complete!\")\n",
    "        return text\n",
    "    except Exception as e:\n",
    "        print(f\"Error extracting text: {e}\")\n",
    "        return \"\""
   ]
  },
  {
   "cell_type": "code",
   "execution_count": 4,
   "id": "967e5e84-ec99-4521-84d7-76470fda6a5b",
   "metadata": {},
   "outputs": [],
   "source": [
    "# Function to convert text to audio and save it\n",
    "def text_to_audiobook(text, output_file=\"audiobook.mp3\"):\n",
    "    if text.strip():  # Check if there's any text\n",
    "        try:\n",
    "            engine = pyttsx3.init()\n",
    "            engine.setProperty('rate', 150)  # Speed of speech\n",
    "            engine.setProperty('volume', 0.9)  # Volume (0.0 to 1.0)\n",
    "            engine.save_to_file(text, output_file)\n",
    "            engine.runAndWait()\n",
    "            print(f\"Audiobook saved as {output_file}\")\n",
    "        except Exception as e:\n",
    "            print(f\"Error creating audiobook: {e}\")\n",
    "    else:\n",
    "        print(\"No text available to convert to audio.\")"
   ]
  },
  {
   "cell_type": "code",
   "execution_count": 5,
   "id": "bfca595e-9d0e-4cfd-bc4a-2f77d2136a78",
   "metadata": {},
   "outputs": [],
   "source": [
    "# Main function to convert PDF to audiobook with user input\n",
    "def pdf_to_audiobook_with_input():\n",
    "    pdf_path = input(\"Enter the path to your PDF file (without quotes): \")\n",
    "    # Remove any surrounding quotes and normalize path\n",
    "    pdf_path = pdf_path.strip().strip('\"').strip(\"'\")\n",
    "    pdf_path = os.path.normpath(pdf_path)  # Normalize path\n",
    "    \n",
    "    if os.path.exists(pdf_path):  # Check if file exists\n",
    "        extracted_text = extract_text_from_pdf(pdf_path)\n",
    "        if extracted_text:\n",
    "            output_file = \"audiobook.mp3\"\n",
    "            text_to_audiobook(extracted_text, output_file)\n",
    "            if os.path.exists(output_file):\n",
    "                print(\"Playing the audiobook...\")\n",
    "                display(Audio(output_file))\n",
    "            else:\n",
    "                print(\"Failed to create the audiobook file.\")\n",
    "        else:\n",
    "            print(\"Conversion failed due to no extracted text.\")\n",
    "    else:\n",
    "        print(f\"File not found at: {pdf_path}. Please check the path and try again.\")"
   ]
  },
  {
   "cell_type": "code",
   "execution_count": null,
   "id": "eab70961-9d84-46a6-a770-c841f228be76",
   "metadata": {},
   "outputs": [],
   "source": [
    "# Run the conversion program\n",
    "pdf_to_audiobook_with_input()"
   ]
  }
 ],
 "metadata": {
  "kernelspec": {
   "display_name": "Python 3 (ipykernel)",
   "language": "python",
   "name": "python3"
  },
  "language_info": {
   "codemirror_mode": {
    "name": "ipython",
    "version": 3
   },
   "file_extension": ".py",
   "mimetype": "text/x-python",
   "name": "python",
   "nbconvert_exporter": "python",
   "pygments_lexer": "ipython3",
   "version": "3.12.4"
  }
 },
 "nbformat": 4,
 "nbformat_minor": 5
}
